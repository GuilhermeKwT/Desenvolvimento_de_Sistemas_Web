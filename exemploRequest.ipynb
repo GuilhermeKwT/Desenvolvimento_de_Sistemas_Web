{
  "nbformat": 4,
  "nbformat_minor": 0,
  "metadata": {
    "colab": {
      "provenance": [],
      "authorship_tag": "ABX9TyMSJTgAVpQRzv+M49op9I82",
      "include_colab_link": true
    },
    "kernelspec": {
      "name": "python3",
      "display_name": "Python 3"
    },
    "language_info": {
      "name": "python"
    }
  },
  "cells": [
    {
      "cell_type": "markdown",
      "metadata": {
        "id": "view-in-github",
        "colab_type": "text"
      },
      "source": [
        "<a href=\"https://colab.research.google.com/github/GuilhermeKwT/Desenvolvimento_de_Sistemas_Web/blob/main/exemploRequest.ipynb\" target=\"_parent\"><img src=\"https://colab.research.google.com/assets/colab-badge.svg\" alt=\"Open In Colab\"/></a>"
      ]
    },
    {
      "cell_type": "code",
      "source": [
        "import requests\n",
        "\n",
        "url = \"https://moodle.unicentro.br\"\n",
        "\n",
        "response = requests.get(url)\n",
        "print(response.status_code)\n",
        "\n",
        "\n",
        "\n"
      ],
      "metadata": {
        "colab": {
          "base_uri": "https://localhost:8080/"
        },
        "id": "iw-L7EXAOi6l",
        "outputId": "55a55b68-f907-4b6e-db62-d9a61ad4d701"
      },
      "execution_count": null,
      "outputs": [
        {
          "output_type": "stream",
          "name": "stdout",
          "text": [
            "200\n"
          ]
        }
      ]
    },
    {
      "cell_type": "code",
      "source": [
        "import requests\n",
        "from lxml import html\n",
        "\n",
        "url = \"https://www.canalrural.com.br/\"\n",
        "\n",
        "response = requests.get(url)\n",
        "tree = html.fromstring(response.text)\n",
        "\n",
        "result = tree.xpath('/html/body/main/section[1]/div/div/div/article[3]/a/div/h2/text()')\n",
        "print(result)\n"
      ],
      "metadata": {
        "colab": {
          "base_uri": "https://localhost:8080/"
        },
        "id": "HkeSeRzbPZ_T",
        "outputId": "e86af885-af12-4a87-af58-bd44695d6db7"
      },
      "execution_count": null,
      "outputs": [
        {
          "output_type": "stream",
          "name": "stdout",
          "text": [
            "['Grande onda de frio já tem data marcada e deve gerar temperaturas negativas']\n"
          ]
        }
      ]
    }
  ]
}